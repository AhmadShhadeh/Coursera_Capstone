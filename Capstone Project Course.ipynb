{
 "cells": [
  {
   "cell_type": "markdown",
   "metadata": {},
   "source": [
    "# Applied-Data-Science-Capstone -IBM Data Science Professional Certification "
   ]
  },
  {
   "cell_type": "markdown",
   "metadata": {},
   "source": [
    "This notebook will be mainly used for the capstone project.\n",
    "This capstone project will give a chance to apply what we learned in the previous courses in this specialization, it is real data science problem, covered the End To End steps for the data science problem life cycle.\n",
    "\n",
    "it will start from the business case and the problem description, then search for the proper data to support our decision then after analyzing the data and visualizing it will start building a model to predict the optimized value for our case.\n",
    "\n",
    "This project demonstrates about how to make RESTful API calls to the Foursquare API to retrieve data about venues in different neighborhoods around the world, scraping web data and parsing HTML code, using the Folium library to great maps of geospatial data and to communicate my results and findings.\n",
    "\n",
    "And many other skills in details\n",
    "\n",
    "Ahmad Shhadeh 2019-09-08"
   ]
  },
  {
   "cell_type": "code",
   "execution_count": 1,
   "metadata": {},
   "outputs": [],
   "source": [
    "import pandas as pd # for data analsysis\n",
    "import numpy as np # to handle data in a vectorized manner"
   ]
  },
  {
   "cell_type": "code",
   "execution_count": 2,
   "metadata": {},
   "outputs": [
    {
     "name": "stdout",
     "output_type": "stream",
     "text": [
      "Hello Capstone Project Course!\n"
     ]
    }
   ],
   "source": [
    "print('Hello Capstone Project Course!')"
   ]
  },
  {
   "cell_type": "code",
   "execution_count": null,
   "metadata": {},
   "outputs": [],
   "source": []
  }
 ],
 "metadata": {
  "kernelspec": {
   "display_name": "Python 3",
   "language": "python",
   "name": "python3"
  },
  "language_info": {
   "codemirror_mode": {
    "name": "ipython",
    "version": 3
   },
   "file_extension": ".py",
   "mimetype": "text/x-python",
   "name": "python",
   "nbconvert_exporter": "python",
   "pygments_lexer": "ipython3",
   "version": "3.7.1"
  }
 },
 "nbformat": 4,
 "nbformat_minor": 2
}
